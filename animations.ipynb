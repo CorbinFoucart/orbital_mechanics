{
 "cells": [
  {
   "cell_type": "code",
   "execution_count": null,
   "id": "9fca7ad1",
   "metadata": {},
   "outputs": [],
   "source": [
    "import os, glob\n",
    "\n",
    "import numpy as np\n",
    "import pandas as pd\n",
    "\n",
    "import matplotlib as mpl\n",
    "import matplotlib.pyplot as plt\n",
    "from matplotlib import animation"
   ]
  },
  {
   "cell_type": "code",
   "execution_count": null,
   "id": "64e74b8a",
   "metadata": {},
   "outputs": [],
   "source": [
    "%matplotlib notebook"
   ]
  },
  {
   "cell_type": "code",
   "execution_count": null,
   "id": "7143facf",
   "metadata": {},
   "outputs": [],
   "source": [
    "directory = 'ex4_circular_bodies4/'\n",
    "csv_files = list()\n",
    "for file in glob.glob(directory + \"*.csv\"):\n",
    "    csv_files.append(file)\n",
    "csv_files.sort()\n",
    "csv_files"
   ]
  },
  {
   "cell_type": "code",
   "execution_count": null,
   "id": "cbbdce58",
   "metadata": {},
   "outputs": [],
   "source": [
    "class TrajectoryData(object):\n",
    "    def __init__(self, filename, color):\n",
    "        self.filename = filename\n",
    "        self.color = color\n",
    "        self.df = pd.read_csv(self.filename)\n",
    "        \n",
    "\n",
    "#colors = ['C0', 'C1', 'C2', 'C3', 'C4', 'C5'][:len(csv_files)]\n",
    "colors = ['#00f54e',  '#0052f5', '#00f5d8', '#4100f5', '#797a7a'][:len(csv_files)]\n",
    "\n",
    "trajectories = [TrajectoryData(f, c) for f, c in zip(csv_files, colors)]"
   ]
  },
  {
   "cell_type": "code",
   "execution_count": null,
   "id": "b4114444",
   "metadata": {},
   "outputs": [],
   "source": [
    "# Plot the entire trajectory\n",
    "fig, ax = plt.subplots(1, 1, figsize=(5,5))\n",
    "lines, pts = list(), list()\n",
    "\n",
    "for trj in trajectories:\n",
    "    xs = trj.df['x0'].values\n",
    "    ys = trj.df['x1'].values\n",
    "    last_idx = trj.df.index[-1]\n",
    "    ax.plot(xs, ys, c=trj.color, alpha=0.8)\n",
    "    ax.scatter(x=xs[last_idx], y=ys[last_idx],\n",
    "               s=trj.df['mass'][last_idx]*10, color=trj.color)\n",
    "\n",
    "x_range = ax.get_xlim()\n",
    "y_range = ax.get_ylim()\n",
    "plt.show()"
   ]
  },
  {
   "cell_type": "code",
   "execution_count": null,
   "id": "307d71ee",
   "metadata": {},
   "outputs": [],
   "source": [
    "# First set up the figure, the axis, and the plot element we want to animate\n",
    "fig, ax = plt.subplots(1, 1, figsize=(5,5))\n",
    "lines, pts = list(), list()\n",
    "\n",
    "for trj in trajectories:\n",
    "    line, = ax.plot([], [], lw=1, \n",
    "                    color=trj.color, alpha=0.5,\n",
    "                    zorder=-1)\n",
    "    particle, = ax.plot([], [], 'o',\n",
    "                        markersize=(trj.df['mass'][0])**(1/3)*3, \n",
    "                        color=trj.color,\n",
    "                        zorder=2)\n",
    "    lines.append(line)\n",
    "    pts.append(particle)\n",
    "\n",
    "# initialization function: plot the background of each frame\n",
    "def init():\n",
    "    ax.set_xlim(x_range)\n",
    "    ax.set_ylim(y_range)\n",
    "    for key, spine in ax.spines.items():\n",
    "        spine.set_visible(False)\n",
    "    ax.set_xticks([])\n",
    "    ax.set_yticks([])\n",
    "\n",
    "    for particle in pts:\n",
    "        particle.set_data([], [])\n",
    "        \n",
    "    for line in lines:\n",
    "        line.set_data([], [])\n",
    "        \n",
    "    return lines, pts\n",
    "\n",
    "# animation function.  This is called sequentially\n",
    "def animate(i):\n",
    "    for idx, trj in enumerate(trajectories):\n",
    "        xs = trj.df['x0'].values[:i]\n",
    "        ys = trj.df['x1'].values[:i]\n",
    "        xf, yf = trj.df['x0'][i], trj.df['x1'][i]\n",
    "        pts[idx].set_data([xf], [yf])\n",
    "        lines[idx].set_data(xs, ys)\n",
    "\n",
    "    return lines, pts\n",
    "\n",
    "\n",
    "# call the animator.  blit=True means only re-draw the parts that have changed.\n",
    "anim = animation.FuncAnimation(fig, animate, init_func=init,\n",
    "                               frames=last_idx, interval=1, blit=True)\n",
    "\n",
    "plt.show()"
   ]
  },
  {
   "cell_type": "code",
   "execution_count": null,
   "id": "ba5948fe",
   "metadata": {},
   "outputs": [],
   "source": [
    "fps = int(last_idx / 30) # so movie is 30s\n",
    "anim.save(directory + 'output.mp4', fps=fps, dpi=200, extra_args=['-vcodec', 'libx264'])"
   ]
  },
  {
   "cell_type": "code",
   "execution_count": null,
   "id": "b41089dd",
   "metadata": {},
   "outputs": [],
   "source": []
  }
 ],
 "metadata": {
  "kernelspec": {
   "display_name": "Python [conda env:dealii_env] *",
   "language": "python",
   "name": "conda-env-dealii_env-py"
  },
  "language_info": {
   "codemirror_mode": {
    "name": "ipython",
    "version": 3
   },
   "file_extension": ".py",
   "mimetype": "text/x-python",
   "name": "python",
   "nbconvert_exporter": "python",
   "pygments_lexer": "ipython3",
   "version": "3.8.13"
  }
 },
 "nbformat": 4,
 "nbformat_minor": 5
}
